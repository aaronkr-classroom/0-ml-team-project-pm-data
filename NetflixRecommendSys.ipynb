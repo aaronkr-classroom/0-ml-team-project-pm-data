{
  "cells": [
    {
      "cell_type": "markdown",
      "metadata": {
        "id": "FunJKG1jyVLd"
      },
      "source": [
        "\n",
        "**# Table of Contents**\n",
        "0. Data OverView\n",
        "1. Data Cleaning and Preprocessing\n",
        "2. Exploratory Data Analysis (EDA)"
      ]
    },
    {
      "cell_type": "markdown",
      "metadata": {
        "id": "gStokAbXyVLe"
      },
      "source": [
        "# **0. Data OverView**"
      ]
    },
    {
      "cell_type": "code",
      "execution_count": 13,
      "metadata": {
        "colab": {
          "base_uri": "https://localhost:8080/",
          "height": 452
        },
        "id": "8LOToVnqyVLe",
        "outputId": "5b2aa7ad-7781-4f43-b583-c005aa234d52"
      },
      "outputs": [
        {
          "output_type": "stream",
          "name": "stdout",
          "text": [
            "Path to dataset files: /root/.cache/kagglehub/datasets/octopusteam/full-netflix-dataset/versions/52\n"
          ]
        },
        {
          "output_type": "execute_result",
          "data": {
            "text/plain": [
              "                                   title   type                     genres  \\\n",
              "0                      The Fifth Element  movie  Action, Adventure, Sci-Fi   \n",
              "1                      Kill Bill: Vol. 1  movie    Action, Crime, Thriller   \n",
              "2                                Jarhead  movie      Biography, Drama, War   \n",
              "3                             Unforgiven  movie             Drama, Western   \n",
              "4  Eternal Sunshine of the Spotless Mind  movie     Drama, Romance, Sci-Fi   \n",
              "\n",
              "   releaseYear     imdbId  imdbAverageRating  imdbNumVotes  \\\n",
              "0       1997.0  tt0119116                7.6      518462.0   \n",
              "1       2003.0  tt0266697                8.2     1225867.0   \n",
              "2       2005.0  tt0418763                7.0      212298.0   \n",
              "3       1992.0  tt0105695                8.2      445589.0   \n",
              "4       2004.0  tt0338013                8.3     1110118.0   \n",
              "\n",
              "                                  availableCountries  \n",
              "0                                         AT, CH, DE  \n",
              "1  AE, AL, AO, AT, AU, AZ, BG, BH, BY, CA, CI, CM...  \n",
              "2  AD, AE, AG, AL, AO, AT, AZ, BA, BG, BH, BM, BR...  \n",
              "3  AU, BA, BG, CZ, HR, HU, MD, ME, MK, NZ, PL, RO...  \n",
              "4  AD, AE, AG, AL, AO, AR, AU, AZ, BA, BB, BE, BG...  "
            ],
            "text/html": [
              "\n",
              "  <div id=\"df-4d6b8cfd-5404-4baf-b6af-64214217a6eb\" class=\"colab-df-container\">\n",
              "    <div>\n",
              "<style scoped>\n",
              "    .dataframe tbody tr th:only-of-type {\n",
              "        vertical-align: middle;\n",
              "    }\n",
              "\n",
              "    .dataframe tbody tr th {\n",
              "        vertical-align: top;\n",
              "    }\n",
              "\n",
              "    .dataframe thead th {\n",
              "        text-align: right;\n",
              "    }\n",
              "</style>\n",
              "<table border=\"1\" class=\"dataframe\">\n",
              "  <thead>\n",
              "    <tr style=\"text-align: right;\">\n",
              "      <th></th>\n",
              "      <th>title</th>\n",
              "      <th>type</th>\n",
              "      <th>genres</th>\n",
              "      <th>releaseYear</th>\n",
              "      <th>imdbId</th>\n",
              "      <th>imdbAverageRating</th>\n",
              "      <th>imdbNumVotes</th>\n",
              "      <th>availableCountries</th>\n",
              "    </tr>\n",
              "  </thead>\n",
              "  <tbody>\n",
              "    <tr>\n",
              "      <th>0</th>\n",
              "      <td>The Fifth Element</td>\n",
              "      <td>movie</td>\n",
              "      <td>Action, Adventure, Sci-Fi</td>\n",
              "      <td>1997.0</td>\n",
              "      <td>tt0119116</td>\n",
              "      <td>7.6</td>\n",
              "      <td>518462.0</td>\n",
              "      <td>AT, CH, DE</td>\n",
              "    </tr>\n",
              "    <tr>\n",
              "      <th>1</th>\n",
              "      <td>Kill Bill: Vol. 1</td>\n",
              "      <td>movie</td>\n",
              "      <td>Action, Crime, Thriller</td>\n",
              "      <td>2003.0</td>\n",
              "      <td>tt0266697</td>\n",
              "      <td>8.2</td>\n",
              "      <td>1225867.0</td>\n",
              "      <td>AE, AL, AO, AT, AU, AZ, BG, BH, BY, CA, CI, CM...</td>\n",
              "    </tr>\n",
              "    <tr>\n",
              "      <th>2</th>\n",
              "      <td>Jarhead</td>\n",
              "      <td>movie</td>\n",
              "      <td>Biography, Drama, War</td>\n",
              "      <td>2005.0</td>\n",
              "      <td>tt0418763</td>\n",
              "      <td>7.0</td>\n",
              "      <td>212298.0</td>\n",
              "      <td>AD, AE, AG, AL, AO, AT, AZ, BA, BG, BH, BM, BR...</td>\n",
              "    </tr>\n",
              "    <tr>\n",
              "      <th>3</th>\n",
              "      <td>Unforgiven</td>\n",
              "      <td>movie</td>\n",
              "      <td>Drama, Western</td>\n",
              "      <td>1992.0</td>\n",
              "      <td>tt0105695</td>\n",
              "      <td>8.2</td>\n",
              "      <td>445589.0</td>\n",
              "      <td>AU, BA, BG, CZ, HR, HU, MD, ME, MK, NZ, PL, RO...</td>\n",
              "    </tr>\n",
              "    <tr>\n",
              "      <th>4</th>\n",
              "      <td>Eternal Sunshine of the Spotless Mind</td>\n",
              "      <td>movie</td>\n",
              "      <td>Drama, Romance, Sci-Fi</td>\n",
              "      <td>2004.0</td>\n",
              "      <td>tt0338013</td>\n",
              "      <td>8.3</td>\n",
              "      <td>1110118.0</td>\n",
              "      <td>AD, AE, AG, AL, AO, AR, AU, AZ, BA, BB, BE, BG...</td>\n",
              "    </tr>\n",
              "  </tbody>\n",
              "</table>\n",
              "</div>\n",
              "    <div class=\"colab-df-buttons\">\n",
              "\n",
              "  <div class=\"colab-df-container\">\n",
              "    <button class=\"colab-df-convert\" onclick=\"convertToInteractive('df-4d6b8cfd-5404-4baf-b6af-64214217a6eb')\"\n",
              "            title=\"Convert this dataframe to an interactive table.\"\n",
              "            style=\"display:none;\">\n",
              "\n",
              "  <svg xmlns=\"http://www.w3.org/2000/svg\" height=\"24px\" viewBox=\"0 -960 960 960\">\n",
              "    <path d=\"M120-120v-720h720v720H120Zm60-500h600v-160H180v160Zm220 220h160v-160H400v160Zm0 220h160v-160H400v160ZM180-400h160v-160H180v160Zm440 0h160v-160H620v160ZM180-180h160v-160H180v160Zm440 0h160v-160H620v160Z\"/>\n",
              "  </svg>\n",
              "    </button>\n",
              "\n",
              "  <style>\n",
              "    .colab-df-container {\n",
              "      display:flex;\n",
              "      gap: 12px;\n",
              "    }\n",
              "\n",
              "    .colab-df-convert {\n",
              "      background-color: #E8F0FE;\n",
              "      border: none;\n",
              "      border-radius: 50%;\n",
              "      cursor: pointer;\n",
              "      display: none;\n",
              "      fill: #1967D2;\n",
              "      height: 32px;\n",
              "      padding: 0 0 0 0;\n",
              "      width: 32px;\n",
              "    }\n",
              "\n",
              "    .colab-df-convert:hover {\n",
              "      background-color: #E2EBFA;\n",
              "      box-shadow: 0px 1px 2px rgba(60, 64, 67, 0.3), 0px 1px 3px 1px rgba(60, 64, 67, 0.15);\n",
              "      fill: #174EA6;\n",
              "    }\n",
              "\n",
              "    .colab-df-buttons div {\n",
              "      margin-bottom: 4px;\n",
              "    }\n",
              "\n",
              "    [theme=dark] .colab-df-convert {\n",
              "      background-color: #3B4455;\n",
              "      fill: #D2E3FC;\n",
              "    }\n",
              "\n",
              "    [theme=dark] .colab-df-convert:hover {\n",
              "      background-color: #434B5C;\n",
              "      box-shadow: 0px 1px 3px 1px rgba(0, 0, 0, 0.15);\n",
              "      filter: drop-shadow(0px 1px 2px rgba(0, 0, 0, 0.3));\n",
              "      fill: #FFFFFF;\n",
              "    }\n",
              "  </style>\n",
              "\n",
              "    <script>\n",
              "      const buttonEl =\n",
              "        document.querySelector('#df-4d6b8cfd-5404-4baf-b6af-64214217a6eb button.colab-df-convert');\n",
              "      buttonEl.style.display =\n",
              "        google.colab.kernel.accessAllowed ? 'block' : 'none';\n",
              "\n",
              "      async function convertToInteractive(key) {\n",
              "        const element = document.querySelector('#df-4d6b8cfd-5404-4baf-b6af-64214217a6eb');\n",
              "        const dataTable =\n",
              "          await google.colab.kernel.invokeFunction('convertToInteractive',\n",
              "                                                    [key], {});\n",
              "        if (!dataTable) return;\n",
              "\n",
              "        const docLinkHtml = 'Like what you see? Visit the ' +\n",
              "          '<a target=\"_blank\" href=https://colab.research.google.com/notebooks/data_table.ipynb>data table notebook</a>'\n",
              "          + ' to learn more about interactive tables.';\n",
              "        element.innerHTML = '';\n",
              "        dataTable['output_type'] = 'display_data';\n",
              "        await google.colab.output.renderOutput(dataTable, element);\n",
              "        const docLink = document.createElement('div');\n",
              "        docLink.innerHTML = docLinkHtml;\n",
              "        element.appendChild(docLink);\n",
              "      }\n",
              "    </script>\n",
              "  </div>\n",
              "\n",
              "\n",
              "<div id=\"df-c0e4be18-cb13-474f-a95a-f96ccd69ffae\">\n",
              "  <button class=\"colab-df-quickchart\" onclick=\"quickchart('df-c0e4be18-cb13-474f-a95a-f96ccd69ffae')\"\n",
              "            title=\"Suggest charts\"\n",
              "            style=\"display:none;\">\n",
              "\n",
              "<svg xmlns=\"http://www.w3.org/2000/svg\" height=\"24px\"viewBox=\"0 0 24 24\"\n",
              "     width=\"24px\">\n",
              "    <g>\n",
              "        <path d=\"M19 3H5c-1.1 0-2 .9-2 2v14c0 1.1.9 2 2 2h14c1.1 0 2-.9 2-2V5c0-1.1-.9-2-2-2zM9 17H7v-7h2v7zm4 0h-2V7h2v10zm4 0h-2v-4h2v4z\"/>\n",
              "    </g>\n",
              "</svg>\n",
              "  </button>\n",
              "\n",
              "<style>\n",
              "  .colab-df-quickchart {\n",
              "      --bg-color: #E8F0FE;\n",
              "      --fill-color: #1967D2;\n",
              "      --hover-bg-color: #E2EBFA;\n",
              "      --hover-fill-color: #174EA6;\n",
              "      --disabled-fill-color: #AAA;\n",
              "      --disabled-bg-color: #DDD;\n",
              "  }\n",
              "\n",
              "  [theme=dark] .colab-df-quickchart {\n",
              "      --bg-color: #3B4455;\n",
              "      --fill-color: #D2E3FC;\n",
              "      --hover-bg-color: #434B5C;\n",
              "      --hover-fill-color: #FFFFFF;\n",
              "      --disabled-bg-color: #3B4455;\n",
              "      --disabled-fill-color: #666;\n",
              "  }\n",
              "\n",
              "  .colab-df-quickchart {\n",
              "    background-color: var(--bg-color);\n",
              "    border: none;\n",
              "    border-radius: 50%;\n",
              "    cursor: pointer;\n",
              "    display: none;\n",
              "    fill: var(--fill-color);\n",
              "    height: 32px;\n",
              "    padding: 0;\n",
              "    width: 32px;\n",
              "  }\n",
              "\n",
              "  .colab-df-quickchart:hover {\n",
              "    background-color: var(--hover-bg-color);\n",
              "    box-shadow: 0 1px 2px rgba(60, 64, 67, 0.3), 0 1px 3px 1px rgba(60, 64, 67, 0.15);\n",
              "    fill: var(--button-hover-fill-color);\n",
              "  }\n",
              "\n",
              "  .colab-df-quickchart-complete:disabled,\n",
              "  .colab-df-quickchart-complete:disabled:hover {\n",
              "    background-color: var(--disabled-bg-color);\n",
              "    fill: var(--disabled-fill-color);\n",
              "    box-shadow: none;\n",
              "  }\n",
              "\n",
              "  .colab-df-spinner {\n",
              "    border: 2px solid var(--fill-color);\n",
              "    border-color: transparent;\n",
              "    border-bottom-color: var(--fill-color);\n",
              "    animation:\n",
              "      spin 1s steps(1) infinite;\n",
              "  }\n",
              "\n",
              "  @keyframes spin {\n",
              "    0% {\n",
              "      border-color: transparent;\n",
              "      border-bottom-color: var(--fill-color);\n",
              "      border-left-color: var(--fill-color);\n",
              "    }\n",
              "    20% {\n",
              "      border-color: transparent;\n",
              "      border-left-color: var(--fill-color);\n",
              "      border-top-color: var(--fill-color);\n",
              "    }\n",
              "    30% {\n",
              "      border-color: transparent;\n",
              "      border-left-color: var(--fill-color);\n",
              "      border-top-color: var(--fill-color);\n",
              "      border-right-color: var(--fill-color);\n",
              "    }\n",
              "    40% {\n",
              "      border-color: transparent;\n",
              "      border-right-color: var(--fill-color);\n",
              "      border-top-color: var(--fill-color);\n",
              "    }\n",
              "    60% {\n",
              "      border-color: transparent;\n",
              "      border-right-color: var(--fill-color);\n",
              "    }\n",
              "    80% {\n",
              "      border-color: transparent;\n",
              "      border-right-color: var(--fill-color);\n",
              "      border-bottom-color: var(--fill-color);\n",
              "    }\n",
              "    90% {\n",
              "      border-color: transparent;\n",
              "      border-bottom-color: var(--fill-color);\n",
              "    }\n",
              "  }\n",
              "</style>\n",
              "\n",
              "  <script>\n",
              "    async function quickchart(key) {\n",
              "      const quickchartButtonEl =\n",
              "        document.querySelector('#' + key + ' button');\n",
              "      quickchartButtonEl.disabled = true;  // To prevent multiple clicks.\n",
              "      quickchartButtonEl.classList.add('colab-df-spinner');\n",
              "      try {\n",
              "        const charts = await google.colab.kernel.invokeFunction(\n",
              "            'suggestCharts', [key], {});\n",
              "      } catch (error) {\n",
              "        console.error('Error during call to suggestCharts:', error);\n",
              "      }\n",
              "      quickchartButtonEl.classList.remove('colab-df-spinner');\n",
              "      quickchartButtonEl.classList.add('colab-df-quickchart-complete');\n",
              "    }\n",
              "    (() => {\n",
              "      let quickchartButtonEl =\n",
              "        document.querySelector('#df-c0e4be18-cb13-474f-a95a-f96ccd69ffae button');\n",
              "      quickchartButtonEl.style.display =\n",
              "        google.colab.kernel.accessAllowed ? 'block' : 'none';\n",
              "    })();\n",
              "  </script>\n",
              "</div>\n",
              "\n",
              "    </div>\n",
              "  </div>\n"
            ],
            "application/vnd.google.colaboratory.intrinsic+json": {
              "type": "dataframe",
              "variable_name": "df",
              "summary": "{\n  \"name\": \"df\",\n  \"rows\": 20164,\n  \"fields\": [\n    {\n      \"column\": \"title\",\n      \"properties\": {\n        \"dtype\": \"string\",\n        \"num_unique_values\": 18914,\n        \"samples\": [\n          \"Bartkowiak\",\n          \"Fastest Car\",\n          \"Baking Impossible\"\n        ],\n        \"semantic_type\": \"\",\n        \"description\": \"\"\n      }\n    },\n    {\n      \"column\": \"type\",\n      \"properties\": {\n        \"dtype\": \"category\",\n        \"num_unique_values\": 2,\n        \"samples\": [\n          \"tv\",\n          \"movie\"\n        ],\n        \"semantic_type\": \"\",\n        \"description\": \"\"\n      }\n    },\n    {\n      \"column\": \"genres\",\n      \"properties\": {\n        \"dtype\": \"category\",\n        \"num_unique_values\": 840,\n        \"samples\": [\n          \"Game-Show, Music, Reality-TV\",\n          \"Comedy, Family, Soap\"\n        ],\n        \"semantic_type\": \"\",\n        \"description\": \"\"\n      }\n    },\n    {\n      \"column\": \"releaseYear\",\n      \"properties\": {\n        \"dtype\": \"number\",\n        \"std\": 14.415326736295354,\n        \"min\": 1913.0,\n        \"max\": 2025.0,\n        \"num_unique_values\": 106,\n        \"samples\": [\n          1913.0,\n          1995.0\n        ],\n        \"semantic_type\": \"\",\n        \"description\": \"\"\n      }\n    },\n    {\n      \"column\": \"imdbId\",\n      \"properties\": {\n        \"dtype\": \"string\",\n        \"num_unique_values\": 18861,\n        \"samples\": [\n          \"tt7465440\",\n          \"tt28106766\"\n        ],\n        \"semantic_type\": \"\",\n        \"description\": \"\"\n      }\n    },\n    {\n      \"column\": \"imdbAverageRating\",\n      \"properties\": {\n        \"dtype\": \"number\",\n        \"std\": 1.0944723927878603,\n        \"min\": 1.2,\n        \"max\": 9.5,\n        \"num_unique_values\": 82,\n        \"samples\": [\n          3.4,\n          7.6\n        ],\n        \"semantic_type\": \"\",\n        \"description\": \"\"\n      }\n    },\n    {\n      \"column\": \"imdbNumVotes\",\n      \"properties\": {\n        \"dtype\": \"number\",\n        \"std\": 120066.33437985399,\n        \"min\": 5.0,\n        \"max\": 2972813.0,\n        \"num_unique_values\": 9410,\n        \"samples\": [\n          5330.0,\n          17912.0\n        ],\n        \"semantic_type\": \"\",\n        \"description\": \"\"\n      }\n    },\n    {\n      \"column\": \"availableCountries\",\n      \"properties\": {\n        \"dtype\": \"category\",\n        \"num_unique_values\": 6359,\n        \"samples\": [\n          \"AT, BE, BG, CZ, DE, ES, FR, GB, GR, HR, HU, IE, IS, IT, LT, LU, LV, MT, NL, NO, PT, RO, SE, SI, SK\",\n          \"AD, AE, AG, AL, AO, AR, AT, AU, AZ, BA, BB, BE, BG, BH, BM, BO, BR, BS, BY, BZ, CA, CH, CI, CL, CM, CO, CR, CU, CV, CY, CZ, DE, DK, DO, DZ, EC, EE, EG, ES, FI, FJ, FR, GB, GF, GG, GH, GI, GQ, GR, GT, HK, HN, HR, HU, ID, IE, IN, IQ, IS, IT, JM, JO, JP, KE, KR, KW, LB, LC, LI, LT, LU, LV, LY, MA, MC, MD, ME, MG, MK, ML, MT, MU, MX, MY, MZ, NE, NG, NI, NL, NO, NZ, OM, PA, PE, PF, PH, PK, PL, PS, PT, PY, QA, RO, RS, SA, SC, SE, SG, SI, SK, SM, SN, SV, TC, TD, TH, TN, TR, TT, TW, TZ, UG, US, UY, VE, YE, ZA, ZM, ZW\"\n        ],\n        \"semantic_type\": \"\",\n        \"description\": \"\"\n      }\n    }\n  ]\n}"
            }
          },
          "metadata": {},
          "execution_count": 13
        }
      ],
      "source": [
        "'''\n",
        "데이터 분석 라이브러리 : pandas와 numpy\n",
        "pandas : 데이터 분석 라이브러리. 데이터 조작, 정제, 분석, 시각화 등을 위한 다양한 기능을 제공. 시리즈(Series)와 데이터프레임(DataFrame)이라는 자료형을 이용하여 데이터를 처리\n",
        "numpy : 다차원 배열을 쉽게 처리하고 효율적으로 사용할 수 있도록 지원하는 파이썬의 패키지. 데이터 분석을 할 때, pandas와 함께 자주 사용\n",
        "\n",
        "데이터 시각화 라이브러리 : matplotlib와 seaborn\n",
        "matplotlib.pyplot : matlab과 비슷하게 명령어 스타일로 동작하는 함수의 모음. 모듈의 각각의 함수를 사용해서 간편하게 그래프를 만들고 변화를 줄 수 있음.\n",
        "seaborn : matplotlib 대비 손쉽게 그래프를 그리고 그래프 스타일 설정을 할 수 있음.\n",
        "'''\n",
        "\n",
        "import pandas as pd\n",
        "import numpy as np\n",
        "import matplotlib.pyplot as plt\n",
        "import seaborn as sns\n",
        "import kagglehub\n",
        "import sys\n",
        "\n",
        "# Download latest version\n",
        "path = kagglehub.dataset_download(\"octopusteam/full-netflix-dataset\")# 경로 입력\n",
        "print(\"Path to dataset files:\", path)# 경로 프린트\n",
        "df = pd.read_csv(\"../\" + path + \"/data.csv\")# 데이터프레임 생성\n",
        "df.head()# 데이터프레임의 제일 위 5행을 보여줌"
      ]
    },
    {
      "cell_type": "markdown",
      "metadata": {
        "id": "YliskBoOyVLe"
      },
      "source": [
        "# **1. Data Cleaning and Preprocessing**"
      ]
    },
    {
      "cell_type": "markdown",
      "metadata": {
        "id": "12fZExYvyVLe"
      },
      "source": []
    },
    {
      "cell_type": "code",
      "execution_count": 14,
      "metadata": {
        "colab": {
          "base_uri": "https://localhost:8080/",
          "height": 335
        },
        "id": "ZnjpBFXpyVLe",
        "outputId": "39448cbc-1bfa-4163-ebf2-53fccbd12a6e"
      },
      "outputs": [
        {
          "output_type": "execute_result",
          "data": {
            "text/plain": [
              "title                  514\n",
              "type                     0\n",
              "genres                 267\n",
              "releaseYear             14\n",
              "imdbId                1299\n",
              "imdbAverageRating     1448\n",
              "imdbNumVotes          1448\n",
              "availableCountries       0\n",
              "dtype: int64"
            ],
            "text/html": [
              "<div>\n",
              "<style scoped>\n",
              "    .dataframe tbody tr th:only-of-type {\n",
              "        vertical-align: middle;\n",
              "    }\n",
              "\n",
              "    .dataframe tbody tr th {\n",
              "        vertical-align: top;\n",
              "    }\n",
              "\n",
              "    .dataframe thead th {\n",
              "        text-align: right;\n",
              "    }\n",
              "</style>\n",
              "<table border=\"1\" class=\"dataframe\">\n",
              "  <thead>\n",
              "    <tr style=\"text-align: right;\">\n",
              "      <th></th>\n",
              "      <th>0</th>\n",
              "    </tr>\n",
              "  </thead>\n",
              "  <tbody>\n",
              "    <tr>\n",
              "      <th>title</th>\n",
              "      <td>514</td>\n",
              "    </tr>\n",
              "    <tr>\n",
              "      <th>type</th>\n",
              "      <td>0</td>\n",
              "    </tr>\n",
              "    <tr>\n",
              "      <th>genres</th>\n",
              "      <td>267</td>\n",
              "    </tr>\n",
              "    <tr>\n",
              "      <th>releaseYear</th>\n",
              "      <td>14</td>\n",
              "    </tr>\n",
              "    <tr>\n",
              "      <th>imdbId</th>\n",
              "      <td>1299</td>\n",
              "    </tr>\n",
              "    <tr>\n",
              "      <th>imdbAverageRating</th>\n",
              "      <td>1448</td>\n",
              "    </tr>\n",
              "    <tr>\n",
              "      <th>imdbNumVotes</th>\n",
              "      <td>1448</td>\n",
              "    </tr>\n",
              "    <tr>\n",
              "      <th>availableCountries</th>\n",
              "      <td>0</td>\n",
              "    </tr>\n",
              "  </tbody>\n",
              "</table>\n",
              "</div><br><label><b>dtype:</b> int64</label>"
            ]
          },
          "metadata": {},
          "execution_count": 14
        }
      ],
      "source": [
        "'''\n",
        "pandas.isnull() : 관측치가 결측(NaN/Null)이면 True, 아니라면 False를 반환\n",
        "입력값 : scalar or array-like\n",
        "리턴값 : bool or array-like of bool\n",
        "pandas.sum() : 객체의 행이나 열의 합을 계산. True는 1, False는 0 이므로 (sum의 값 = 결측의 개수)\n",
        "'''\n",
        "\n",
        "# 결손값 확인\n",
        "df.isnull().sum()"
      ]
    },
    {
      "cell_type": "code",
      "execution_count": 15,
      "metadata": {
        "colab": {
          "base_uri": "https://localhost:8080/",
          "height": 878
        },
        "id": "U1pccJ0CyVLe",
        "outputId": "64700046-d3c6-498e-ec97-c4c9c35435f3"
      },
      "outputs": [
        {
          "output_type": "execute_result",
          "data": {
            "text/plain": [
              "title                  514\n",
              "type                     0\n",
              "genres                 267\n",
              "releaseYear             14\n",
              "imdbId                1299\n",
              "imdbAverageRating     1448\n",
              "imdbNumVotes          1448\n",
              "availableCountries       0\n",
              "dtype: int64"
            ],
            "text/html": [
              "<div>\n",
              "<style scoped>\n",
              "    .dataframe tbody tr th:only-of-type {\n",
              "        vertical-align: middle;\n",
              "    }\n",
              "\n",
              "    .dataframe tbody tr th {\n",
              "        vertical-align: top;\n",
              "    }\n",
              "\n",
              "    .dataframe thead th {\n",
              "        text-align: right;\n",
              "    }\n",
              "</style>\n",
              "<table border=\"1\" class=\"dataframe\">\n",
              "  <thead>\n",
              "    <tr style=\"text-align: right;\">\n",
              "      <th></th>\n",
              "      <th>0</th>\n",
              "    </tr>\n",
              "  </thead>\n",
              "  <tbody>\n",
              "    <tr>\n",
              "      <th>title</th>\n",
              "      <td>514</td>\n",
              "    </tr>\n",
              "    <tr>\n",
              "      <th>type</th>\n",
              "      <td>0</td>\n",
              "    </tr>\n",
              "    <tr>\n",
              "      <th>genres</th>\n",
              "      <td>267</td>\n",
              "    </tr>\n",
              "    <tr>\n",
              "      <th>releaseYear</th>\n",
              "      <td>14</td>\n",
              "    </tr>\n",
              "    <tr>\n",
              "      <th>imdbId</th>\n",
              "      <td>1299</td>\n",
              "    </tr>\n",
              "    <tr>\n",
              "      <th>imdbAverageRating</th>\n",
              "      <td>1448</td>\n",
              "    </tr>\n",
              "    <tr>\n",
              "      <th>imdbNumVotes</th>\n",
              "      <td>1448</td>\n",
              "    </tr>\n",
              "    <tr>\n",
              "      <th>availableCountries</th>\n",
              "      <td>0</td>\n",
              "    </tr>\n",
              "  </tbody>\n",
              "</table>\n",
              "</div><br><label><b>dtype:</b> int64</label>"
            ]
          },
          "metadata": {},
          "execution_count": 15
        },
        {
          "output_type": "display_data",
          "data": {
            "text/plain": [
              "<Figure size 640x480 with 1 Axes>"
            ],
            "image/png": "[encoded data removed]"
          },
          "metadata": {}
        }
      ],
      "source": [
        "'''\n",
        "seaborn.heatmap() : 히트맵으로 데이터를 시각화하면 결측치가 있는 곳에서 2개 이상의 열에 상관관계가 있으면 데이터의 상관관계를 직관적으로 알 수 있음.\n",
        "pandas.isna() == pandas.isnull()\n",
        "'''\n",
        "\n",
        "# 결측값 처리 방법에는 평균값/중앙값 대체, 0으로 대체, 삭제 등 여러 방법이 존재함.\n",
        "# 본 데이터의 결측값에는 다음과 같은 특징이 있음\n",
        "\n",
        "# 평점이 기입되지 않은 데이터는, 추천수도 존재하지 않는다.\n",
        "# 다른 열에 결측값이 발생한 경우, 모두 평점이 결측값을 가진 것으로 확인된다.\n",
        "\n",
        "# 결측값이 모여있다는 것이 확인됐으므로, 대체값 대신 결손값이 있는 행을 삭제하기로 함.\n",
        "\n",
        "sns.heatmap(df.isnull(), cbar = False) # 시각화\n",
        "df[df.imdbAverageRating.isna()].isnull().sum()# imdbAverageRating이 결측값을 가진경우만 뽑았는데, 모든 결측값이 이 데이터 프레임안에서 관측됨"
      ]
    },
    {
      "cell_type": "markdown",
      "metadata": {
        "id": "OsaA402As4qW"
      },
      "source": [
        "- 결측값의 비율이 약 7.1%으로 상대적으로 적은 비율임.\n",
        "- 결측값이 특정 행에 몰려있음.\n",
        "\n",
        "이와 같은 이유로, 결측치를 삭제하기로 결정"
      ]
    },
    {
      "cell_type": "code",
      "execution_count": 16,
      "metadata": {
        "colab": {
          "base_uri": "https://localhost:8080/",
          "height": 335
        },
        "id": "MvzoOMy9yVLf",
        "outputId": "6abce2cc-743e-43db-8a90-f80dcbcb3607"
      },
      "outputs": [
        {
          "output_type": "execute_result",
          "data": {
            "text/plain": [
              "title                 0\n",
              "type                  0\n",
              "genres                0\n",
              "releaseYear           0\n",
              "imdbId                0\n",
              "imdbAverageRating     0\n",
              "imdbNumVotes          0\n",
              "availableCountries    0\n",
              "dtype: int64"
            ],
            "text/html": [
              "<div>\n",
              "<style scoped>\n",
              "    .dataframe tbody tr th:only-of-type {\n",
              "        vertical-align: middle;\n",
              "    }\n",
              "\n",
              "    .dataframe tbody tr th {\n",
              "        vertical-align: top;\n",
              "    }\n",
              "\n",
              "    .dataframe thead th {\n",
              "        text-align: right;\n",
              "    }\n",
              "</style>\n",
              "<table border=\"1\" class=\"dataframe\">\n",
              "  <thead>\n",
              "    <tr style=\"text-align: right;\">\n",
              "      <th></th>\n",
              "      <th>0</th>\n",
              "    </tr>\n",
              "  </thead>\n",
              "  <tbody>\n",
              "    <tr>\n",
              "      <th>title</th>\n",
              "      <td>0</td>\n",
              "    </tr>\n",
              "    <tr>\n",
              "      <th>type</th>\n",
              "      <td>0</td>\n",
              "    </tr>\n",
              "    <tr>\n",
              "      <th>genres</th>\n",
              "      <td>0</td>\n",
              "    </tr>\n",
              "    <tr>\n",
              "      <th>releaseYear</th>\n",
              "      <td>0</td>\n",
              "    </tr>\n",
              "    <tr>\n",
              "      <th>imdbId</th>\n",
              "      <td>0</td>\n",
              "    </tr>\n",
              "    <tr>\n",
              "      <th>imdbAverageRating</th>\n",
              "      <td>0</td>\n",
              "    </tr>\n",
              "    <tr>\n",
              "      <th>imdbNumVotes</th>\n",
              "      <td>0</td>\n",
              "    </tr>\n",
              "    <tr>\n",
              "      <th>availableCountries</th>\n",
              "      <td>0</td>\n",
              "    </tr>\n",
              "  </tbody>\n",
              "</table>\n",
              "</div><br><label><b>dtype:</b> int64</label>"
            ]
          },
          "metadata": {},
          "execution_count": 16
        }
      ],
      "source": [
        "# 1444개의 데이터가 소실됨.(약 7.5%)\n",
        "'''\n",
        "dropna() : 결측치 제거 함수, how=any : 존재하면 제거, inplace = True : 원본 변경\n",
        "'''\n",
        "df.dropna(how='any', inplace = True)\n",
        "df.isnull().sum()"
      ]
    },
    {
      "cell_type": "code",
      "execution_count": 17,
      "metadata": {
        "id": "AGafdEzyyVLf"
      },
      "outputs": [],
      "source": [
        "# float를 int로 형변환\n",
        "df = df.astype({'releaseYear' : 'int', 'imdbNumVotes' : 'int32'})"
      ]
    },
    {
      "cell_type": "markdown",
      "metadata": {
        "id": "t2L_w4RQyVLf"
      },
      "source": [
        "# **2. Exploratory Data Analysis (EDA)**"
      ]
    },
    {
      "cell_type": "code",
      "execution_count": 18,
      "metadata": {
        "colab": {
          "base_uri": "https://localhost:8080/",
          "height": 487
        },
        "id": "CMLk6sH_yVLf",
        "outputId": "3e216198-4871-40e9-83c3-cd5b6aa1bf93"
      },
      "outputs": [
        {
          "output_type": "display_data",
          "data": {
            "text/plain": [
              "<Figure size 500x500 with 1 Axes>"
            ],
            "image/png": "[encoded data removed]"
          },
          "metadata": {}
        }
      ],
      "source": [
        "# 콘텐츠 타입 분포\n",
        "plt.figure(figsize=(5, 5))# 그래프 틀 그리기\n",
        "sns.countplot(data=df, x='type')# 그래프 종류 및 데이터 입력\n",
        "plt.title('Distribution of Content Types') # 제목\n",
        "plt.xlabel('Type') # X축 라벨\n",
        "plt.ylabel('Count') # Y축 라벨\n",
        "plt.show() # 그리기"
      ]
    },
    {
      "cell_type": "code",
      "execution_count": 19,
      "metadata": {
        "colab": {
          "base_uri": "https://localhost:8080/",
          "height": 533
        },
        "id": "i13yUxKsyVLf",
        "outputId": "c03b3504-4b5e-4fa4-8389-0eceeb5e4cca"
      },
      "outputs": [
        {
          "output_type": "display_data",
          "data": {
            "text/plain": [
              "<Figure size 1000x600 with 1 Axes>"
            ],
            "image/png": "[encoded data removed]"
          },
          "metadata": {}
        }
      ],
      "source": [
        "# 평점 분포\n",
        "plt.figure(figsize=(10, 6))\n",
        "sns.histplot(df['imdbAverageRating'], bins=20, kde=True) # 그래프 종류 및 데이터 입력\n",
        "plt.title('Distribution of IMDb Ratings')\n",
        "plt.xlabel('IMDb Rating')\n",
        "plt.ylabel('Frequency')\n",
        "plt.show()"
      ]
    },
    {
      "cell_type": "code",
      "execution_count": 20,
      "metadata": {
        "colab": {
          "base_uri": "https://localhost:8080/",
          "height": 527
        },
        "id": "yn4-YX_MyVLf",
        "outputId": "9ca19a07-d0eb-408b-d26a-7550f5acab9f"
      },
      "outputs": [
        {
          "output_type": "display_data",
          "data": {
            "text/plain": [
              "<Figure size 1000x600 with 1 Axes>"
            ],
            "image/png": "[encoded data removed]"
          },
          "metadata": {}
        }
      ],
      "source": [
        "# 추천수 분포\n",
        "plt.figure(figsize=(10, 6))\n",
        "sns.histplot(df['imdbNumVotes'], bins=20, kde=True)\n",
        "plt.title('Distribution of IMDb NumVotes')\n",
        "plt.xlabel('IMDb NumVotes')\n",
        "plt.ylabel('Frequency')\n",
        "plt.show()"
      ]
    },
    {
      "cell_type": "code",
      "execution_count": 21,
      "metadata": {
        "colab": {
          "base_uri": "https://localhost:8080/",
          "height": 472
        },
        "id": "jaWC8PnNtikR",
        "outputId": "f011d5e1-eae8-42ea-b608-5ef84ae931aa"
      },
      "outputs": [
        {
          "output_type": "display_data",
          "data": {
            "text/plain": [
              "<Figure size 640x480 with 1 Axes>"
            ],
            "image/png": "[encoded data removed]"
          },
          "metadata": {}
        }
      ],
      "source": [
        "'''\n",
        "추천수의 분포가 굉장히 좌측으로 몰려있음. 즉, 데이터의 불균형이 발생함. 데이터의 불균형은 여러 문제를 초래함.\n",
        "위의 그래프는 추천수가 적은 영화가 훨씬 많은데, 이러한 경우 추천수가 많은 영화에 대한 예측이 부정확해질 수 있음.\n",
        "따라서 로그 변환을 통해 추천수의 분포를 완만하게 조정하여 과도한 가중치 부여를 방지함.\n",
        "'''\n",
        "\n",
        "df['imdbNumVotes'] = np.log1p(df['imdbNumVotes']) # 밑이 e인 자연로그 log(1+x)로 변경\n",
        "sns.histplot(df['imdbNumVotes'], bins=20, kde=True) # 그래프 종류 및 데이터 입력\n",
        "plt.title('Distribution of IMDb NumVotes(log)') # 제목\n",
        "plt.xlabel('IMDb NumVotes(log)') # X축 라벨\n",
        "plt.ylabel('Frequency') # Y축 라벨\n",
        "plt.show() # 그리기"
      ]
    },
    {
      "cell_type": "code",
      "execution_count": 22,
      "metadata": {
        "colab": {
          "base_uri": "https://localhost:8080/",
          "height": 487
        },
        "id": "qCPUgV1HyVLf",
        "outputId": "31247380-c2ab-4b2f-913b-b3e1140b0d1e"
      },
      "outputs": [
        {
          "output_type": "display_data",
          "data": {
            "text/plain": [
              "<Figure size 500x500 with 1 Axes>"
            ],
            "image/png": "[encoded data removed]"
          },
          "metadata": {}
        }
      ],
      "source": [
        "# 한국 시청 지원 여부\n",
        "krFilter = df['availableCountries'].str.contains(\"KR\")\n",
        "kr = df[krFilter]\n",
        "notKr = df[~krFilter]\n",
        "plt.figure(figsize=(5, 5))\n",
        "plt.xticks([0, 1], ['Available in KR', 'Unavailable in KR'])\n",
        "plt.bar([0, 1], [len(kr), len(notKr)])\n",
        "plt.title('Available Countries')\n",
        "plt.xlabel('Availability')\n",
        "plt.ylabel('Count')\n",
        "plt.show()"
      ]
    },
    {
      "cell_type": "markdown",
      "metadata": {
        "id": "lFII4RX-yVLg"
      },
      "source": [
        "한국에서 지원하는 영화만 선별"
      ]
    },
    {
      "cell_type": "code",
      "execution_count": 23,
      "metadata": {
        "id": "9evwrdv2iOwI"
      },
      "outputs": [],
      "source": [
        "kr.to_csv(\"netflix.csv\", header = False, index = False)\n",
        "\n",
        "# 중복 기록 제거\n",
        "kr_cleaned = kr.drop_duplicates(subset=kr.columns[0:1], keep='first')\n",
        "\n",
        "# 파일 저장\n",
        "kr_cleaned.to_csv(\"netflix.csv\", index=False)"
      ]
    },
    {
      "cell_type": "code",
      "execution_count": 24,
      "metadata": {
        "id": "MG-XBbsNiNLN"
      },
      "outputs": [],
      "source": [
        "assert sys.version_info >= (3, 7)"
      ]
    },
    {
      "cell_type": "code",
      "execution_count": 27,
      "metadata": {
        "id": "TxfQyS2WiTv-"
      },
      "outputs": [],
      "source": [
        "from packaging import version\n",
        "import sklearn\n",
        "\n",
        "assert version.parse(sklearn.__version__) >= version.parse(\"1.0.1\")"
      ]
    },
    {
      "cell_type": "code",
      "execution_count": 28,
      "metadata": {
        "id": "o-RCCGZ7hw6e"
      },
      "outputs": [],
      "source": [
        "plt.rc('font', size=14)\n",
        "plt.rc('axes', labelsize=14, titlesize=14)\n",
        "plt.rc('legend', fontsize=14)\n",
        "plt.rc('xtick', labelsize=10)\n",
        "plt.rc('ytick', labelsize=10)\n",
        "\n",
        "import sys\n",
        "# 코랩의 경우 나눔 폰트를 설치합니다.\n",
        "if 'google.colab' in sys.modules:\n",
        "    !sudo apt-get -qq -y install fonts-nanum\n",
        "    import matplotlib.font_manager as fm\n",
        "    font_files = fm.findSystemFonts(fontpaths=['/usr/share/fonts/truetype/nanum'])\n",
        "    for fpath in font_files:\n",
        "        fm.fontManager.addfont(fpath)\n",
        "\n",
        "# 나눔 폰트를 사용합니다.\n",
        "import matplotlib\n",
        "\n",
        "matplotlib.rc('font', family='NanumBarunGothic')\n",
        "matplotlib.rcParams['axes.unicode_minus'] = False"
      ]
    },
    {
      "cell_type": "code",
      "execution_count": 29,
      "metadata": {
        "id": "82VMZHopfsUP"
      },
      "outputs": [],
      "source": [
        "# 업로드한 파일 사용\n",
        "data = pd.read_csv(\"netflix.csv\")\n",
        "data['genres'] = data['genres'].str.replace(',', '')"
      ]
    },
    {
      "cell_type": "code",
      "execution_count": 30,
      "metadata": {
        "colab": {
          "base_uri": "https://localhost:8080/"
        },
        "id": "TR8X6Lk1oho1",
        "outputId": "fbf4fb58-d6f8-472d-dfd6-c34fa283f4c7"
      },
      "outputs": [
        {
          "output_type": "stream",
          "name": "stdout",
          "text": [
            "<class 'pandas.core.frame.DataFrame'>\n",
            "RangeIndex: 6829 entries, 0 to 6828\n",
            "Data columns (total 8 columns):\n",
            " #   Column              Non-Null Count  Dtype  \n",
            "---  ------              --------------  -----  \n",
            " 0   title               6829 non-null   object \n",
            " 1   type                6829 non-null   object \n",
            " 2   genres              6829 non-null   object \n",
            " 3   releaseYear         6829 non-null   int64  \n",
            " 4   imdbId              6829 non-null   object \n",
            " 5   imdbAverageRating   6829 non-null   float64\n",
            " 6   imdbNumVotes        6829 non-null   float64\n",
            " 7   availableCountries  6829 non-null   object \n",
            "dtypes: float64(2), int64(1), object(5)\n",
            "memory usage: 426.9+ KB\n",
            "None\n"
          ]
        }
      ],
      "source": [
        "# 데이터를 올바르게 불러왔는지 확인\n",
        "print(data.info())"
      ]
    },
    {
      "cell_type": "markdown",
      "source": [
        "### ***Collaborative Filtering***"
      ],
      "metadata": {
        "id": "rPEJ_9ClCQUk"
      }
    },
    {
      "cell_type": "markdown",
      "source": [
        "superise 라이브러리 설치"
      ],
      "metadata": {
        "id": "A-Wx7_PUCcBU"
      }
    },
    {
      "cell_type": "code",
      "source": [
        "!pip install scikit-surprise"
      ],
      "metadata": {
        "colab": {
          "base_uri": "https://localhost:8080/"
        },
        "id": "Tm0Wm4q7CYEC",
        "outputId": "dc576821-f0b8-4740-c102-f0ae7e3955f1"
      },
      "execution_count": 31,
      "outputs": [
        {
          "output_type": "stream",
          "name": "stdout",
          "text": [
            "Collecting scikit-surprise\n",
            "  Downloading scikit_surprise-1.1.4.tar.gz (154 kB)\n",
            "\u001b[?25l     \u001b[90m━━━━━━━━━━━━━━━━━━━━━━━━━━━━━━━━━━━━━━━━\u001b[0m \u001b[32m0.0/154.4 kB\u001b[0m \u001b[31m?\u001b[0m eta \u001b[36m-:--:--\u001b[0m\r\u001b[2K     \u001b[90m━━━━━━━━━━━━━━━━━━━━━━━━━━━━━━━━━━━━━━━━\u001b[0m \u001b[32m154.4/154.4 kB\u001b[0m \u001b[31m9.3 MB/s\u001b[0m eta \u001b[36m0:00:00\u001b[0m\n",
            "\u001b[?25h  Installing build dependencies ... \u001b[?25l\u001b[?25hdone\n",
            "  Getting requirements to build wheel ... \u001b[?25l\u001b[?25hdone\n",
            "  Preparing metadata (pyproject.toml) ... \u001b[?25l\u001b[?25hdone\n",
            "Requirement already satisfied: joblib>=1.2.0 in /usr/local/lib/python3.10/dist-packages (from scikit-surprise) (1.4.2)\n",
            "Requirement already satisfied: numpy>=1.19.5 in /usr/local/lib/python3.10/dist-packages (from scikit-surprise) (1.26.4)\n",
            "Requirement already satisfied: scipy>=1.6.0 in /usr/local/lib/python3.10/dist-packages (from scikit-surprise) (1.13.1)\n",
            "Building wheels for collected packages: scikit-surprise\n",
            "  Building wheel for scikit-surprise (pyproject.toml) ... \u001b[?25l\u001b[?25hdone\n",
            "  Created wheel for scikit-surprise: filename=scikit_surprise-1.1.4-cp310-cp310-linux_x86_64.whl size=2357289 sha256=107a467d2211d907e8cb8e7920ae81cd5488a6f865afe739a4eb67fa2e582d2f\n",
            "  Stored in directory: /root/.cache/pip/wheels/4b/3f/df/6acbf0a40397d9bf3ff97f582cc22fb9ce66adde75bc71fd54\n",
            "Successfully built scikit-surprise\n",
            "Installing collected packages: scikit-surprise\n",
            "Successfully installed scikit-surprise-1.1.4\n"
          ]
        }
      ]
    },
    {
      "cell_type": "code",
      "execution_count": 35,
      "metadata": {
        "id": "b6sRB1cxO_wT"
      },
      "outputs": [],
      "source": [
        "from surprise import SVD, Dataset, Reader\n",
        "from surprise.model_selection import cross_validate"
      ]
    },
    {
      "cell_type": "code",
      "source": [
        "import surprise\n",
        "print(surprise.__version__)"
      ],
      "metadata": {
        "colab": {
          "base_uri": "https://localhost:8080/"
        },
        "id": "EMAzB1s7C5Dd",
        "outputId": "017f4a20-9789-4562-88c6-393426be6ccb"
      },
      "execution_count": 32,
      "outputs": [
        {
          "output_type": "stream",
          "name": "stdout",
          "text": [
            "1.1.4\n"
          ]
        }
      ]
    },
    {
      "cell_type": "markdown",
      "metadata": {
        "id": "Jo4g0kyOO_wT"
      },
      "source": [
        "영화 데이터 준비"
      ]
    },
    {
      "cell_type": "code",
      "execution_count": 33,
      "metadata": {
        "id": "n_aaLCrIO_wT"
      },
      "outputs": [],
      "source": [
        "# 'title' -> 영화 제목, 'imdbAverageRating' -> 가상의 평점으로 사용\n",
        "data_for_cf = data[['title', 'imdbAverageRating']].copy()\n",
        "data_for_cf['user_id'] = [f\"user_{i%10}\" for i in range(len(data_for_cf))]  # 10명의 사용자 생성\n",
        "data_for_cf.rename(columns={'title': 'item_id', 'imdbAverageRating': 'rating'}, inplace=True)"
      ]
    },
    {
      "cell_type": "code",
      "execution_count": 36,
      "metadata": {
        "collapsed": true,
        "id": "9Ns3Km2UO_wT"
      },
      "outputs": [],
      "source": [
        "# Surprise 라이브러리를 위한 데이터셋 형식 변환\n",
        "reader = Reader(rating_scale=(0, 10))  # IMDb 평점 범위\n",
        "dataset = Dataset.load_from_df(data_for_cf[['user_id', 'item_id', 'rating']], reader)\n"
      ]
    },
    {
      "cell_type": "code",
      "execution_count": 38,
      "metadata": {
        "colab": {
          "base_uri": "https://localhost:8080/"
        },
        "outputId": "a5f27f5e-b121-4173-c511-4b34b60dffe0",
        "id": "ke4KF4WhO_wT"
      },
      "outputs": [
        {
          "output_type": "stream",
          "name": "stdout",
          "text": [
            "Evaluating RMSE, MAE of algorithm SVD on 5 split(s).\n",
            "\n",
            "                  Fold 1  Fold 2  Fold 3  Fold 4  Fold 5  Mean    Std     \n",
            "RMSE (testset)    1.0568  1.0431  1.0407  1.0673  1.0300  1.0476  0.0131  \n",
            "MAE (testset)     0.8244  0.8234  0.8140  0.8303  0.8013  0.8187  0.0101  \n",
            "Fit time          0.10    0.11    0.09    0.10    0.10    0.10    0.01    \n",
            "Test time         0.01    0.01    0.01    0.01    0.01    0.01    0.00    \n"
          ]
        },
        {
          "output_type": "execute_result",
          "data": {
            "text/plain": [
              "{'test_rmse': array([1.05684246, 1.04311525, 1.0406887 , 1.06729293, 1.02996251]),\n",
              " 'test_mae': array([0.82442699, 0.82337714, 0.81401503, 0.83026091, 0.80133144]),\n",
              " 'fit_time': (0.09695100784301758,\n",
              "  0.11245942115783691,\n",
              "  0.09354186058044434,\n",
              "  0.10153698921203613,\n",
              "  0.10453009605407715),\n",
              " 'test_time': (0.006262779235839844,\n",
              "  0.005534172058105469,\n",
              "  0.005391836166381836,\n",
              "  0.005586147308349609,\n",
              "  0.005387306213378906)}"
            ]
          },
          "metadata": {},
          "execution_count": 38
        }
      ],
      "source": [
        "# SVD 모델 생성 및 평가\n",
        "svd = SVD()\n",
        "cross_validate(svd, dataset, cv=5, verbose=True)"
      ]
    },
    {
      "cell_type": "markdown",
      "source": [
        "est_rmse (Root Mean Squared Error):\n",
        "\n",
        "예측 값과 실제 평점 간의 차이의 제곱 평균의 제곱근입니다.\n",
        "값이 작을수록 모델의 예측이 더 정확하다는 것을 의미합니다.\n",
        "예: RMSE = 0.85라면 평균적으로 약 0.85점 차이가 난다는 뜻입니다.\n",
        "\n",
        "test_mae (Mean Absolute Error):\n",
        "\n",
        "예측 값과 실제 값 간의 차이의 절대값 평균입니다.\n",
        "값이 작을수록 더 나은 모델입니다.\n",
        "예: MAE = 0.70이라면 평균적으로 0.70점의 오차가 있다는 뜻입니다."
      ],
      "metadata": {
        "id": "Hhds5UOpDh5Z"
      }
    },
    {
      "cell_type": "markdown",
      "source": [
        "1.1 RMSE (Root Mean Squared Error)\n",
        "Fold별 RMSE:\n",
        "Fold 1: 1.0467\n",
        "Fold 2: 1.0115\n",
        "Fold 3: 1.0633\n",
        "Fold 4: 1.0385\n",
        "Fold 5: 1.0786\n",
        "Mean (평균 RMSE): 1.0477\n",
        "Std (표준 편차): 0.0228\n",
        "해석:\n",
        "\n",
        "RMSE는 예측 평점과 실제 평점 간의 평균적인 오차를 나타냅니다.\n",
        "평균 RMSE가 1.0477이라는 것은, 모델의 평점 예측이 약 1.05점 정도의 오차를 가지고 있음을 의미합니다.\n",
        "표준 편차(0.0228)가 작기 때문에, 5개의 Fold 결과가 비교적 안정적이라고 볼 수 있습니다.\n",
        "\n",
        "1.2 MAE (Mean Absolute Error)\n",
        "Fold별 MAE:\n",
        "Fold 1: 0.8175\n",
        "Fold 2: 0.7962\n",
        "Fold 3: 0.8312\n",
        "Fold 4: 0.8058\n",
        "Fold 5: 0.8464\n",
        "Mean (평균 MAE): 0.8194\n",
        "Std (표준 편차): 0.0178\n",
        "해석:\n",
        "\n",
        "MAE는 예측과 실제 평점 간의 절대적인 차이를 나타냅니다.\n",
        "평균 MAE가 0.8194라는 것은, 모델의 예측이 약 0.82점 정도의 오차를 가지고 있음을 나타냅니다.\n",
        "\n"
      ],
      "metadata": {
        "id": "lYTk8_qbDteS"
      }
    },
    {
      "cell_type": "code",
      "execution_count": 39,
      "metadata": {
        "colab": {
          "base_uri": "https://localhost:8080/"
        },
        "outputId": "a2e004ef-9f39-4f09-e448-ffe1830b051e",
        "id": "sGAKqZPBO_wT"
      },
      "outputs": [
        {
          "output_type": "execute_result",
          "data": {
            "text/plain": [
              "<surprise.prediction_algorithms.matrix_factorization.SVD at 0x7edaa542b100>"
            ]
          },
          "metadata": {},
          "execution_count": 39
        }
      ],
      "source": [
        "# 모델 학습\n",
        "trainset = dataset.build_full_trainset()\n",
        "svd.fit(trainset)"
      ]
    },
    {
      "cell_type": "code",
      "execution_count": 40,
      "metadata": {
        "colab": {
          "base_uri": "https://localhost:8080/"
        },
        "outputId": "fdb8f965-9ae5-44fd-bfbb-5dd0700f2c37",
        "id": "Gbhtc1Y6O_wT"
      },
      "outputs": [
        {
          "output_type": "stream",
          "name": "stdout",
          "text": [
            "협업 필터링 추천 영화 목록:\n",
            "                                 title   type                     genres  \\\n",
            "20          Terminator 2: Judgment Day  movie    Action Adventure Sci-Fi   \n",
            "4400                           Top Boy     tv       Crime Drama Thriller   \n",
            "4640                          Doraemon     tv     Animation Comedy Drama   \n",
            "4690  Secrets of Great British Castles     tv        Documentary History   \n",
            "6350     Frieren: Beyond Journey's End     tv  Adventure Animation Drama   \n",
            "\n",
            "      releaseYear      imdbId  imdbAverageRating  imdbNumVotes  \\\n",
            "20           1991   tt0103064                8.6     14.003607   \n",
            "4400         2011   tt1830379                8.4     10.657683   \n",
            "4640         2005   tt4083422                8.4      8.385489   \n",
            "4690         2015   tt5181284                7.7      7.152269   \n",
            "6350         2023  tt22248376                8.9     10.267992   \n",
            "\n",
            "                                     availableCountries  \n",
            "20    AD, AE, AO, AR, AU, BE, BH, BO, BR, BZ, CA, CH...  \n",
            "4400  AD, AE, AG, AL, AO, AR, AT, AU, AZ, BA, BB, BE...  \n",
            "4640                                             JP, KR  \n",
            "4690  AD, AE, AG, AL, AO, AR, AT, AZ, BA, BB, BE, BG...  \n",
            "6350                 HK, ID, JP, KR, MY, PH, SG, TH, TW  \n"
          ]
        }
      ],
      "source": [
        "# 영화 추천 함수\n",
        "def recommend_movies_cf(user_id, top_n=5):\n",
        "    # 모든 영화에 대해 예측 점수 계산\n",
        "    movies = data['title'].unique()\n",
        "    predictions = [svd.predict(user_id, movie) for movie in movies]\n",
        "\n",
        "    # 예측 점수 기준으로 정렬하여 상위 top_n 추천\n",
        "    predictions = sorted(predictions, key=lambda x: x.est, reverse=True)\n",
        "    top_movies = predictions[:top_n]\n",
        "\n",
        "    # 추천 영화 반환\n",
        "    recommended_movies = [pred.iid for pred in top_movies]\n",
        "    return data[data['title'].isin(recommended_movies)]\n",
        "\n",
        "# 예시 사용자에 대한 영화 추천\n",
        "recommended_cf = recommend_movies_cf('user_0')\n",
        "print(\"협업 필터링 추천 영화 목록:\")\n",
        "print(recommended_cf)"
      ]
    },
    {
      "cell_type": "markdown",
      "metadata": {
        "id": "WHVtCj-rkLGJ"
      },
      "source": [
        "# ***Content Based Filtering***"
      ]
    },
    {
      "cell_type": "code",
      "execution_count": 41,
      "metadata": {
        "id": "yZQD4oR0fqmt"
      },
      "outputs": [],
      "source": [
        "from sklearn.feature_extraction.text import TfidfVectorizer\n",
        "from sklearn.metrics.pairwise import cosine_similarity\n",
        "from sklearn.model_selection import GridSearchCV\n",
        "from sklearn.model_selection import KFold\n",
        "from sklearn.metrics import mean_squared_error"
      ]
    },
    {
      "cell_type": "markdown",
      "metadata": {
        "id": "moxzFhl7kDUd"
      },
      "source": [
        "**TF-IDF 벡터화 하여 유사도 계산**"
      ]
    },
    {
      "cell_type": "code",
      "execution_count": 42,
      "metadata": {
        "colab": {
          "base_uri": "https://localhost:8080/"
        },
        "id": "JMtvZa8tfwFw",
        "outputId": "7bc862e4-d656-4460-df19-5a2f03c8ea25"
      },
      "outputs": [
        {
          "output_type": "stream",
          "name": "stdout",
          "text": [
            "TF-IDF Matrix Shape: (6829, 28)\n"
          ]
        }
      ],
      "source": [
        "# 'genres' 열에 대해 TF-IDF 벡터화 적용\n",
        "vectorizer = TfidfVectorizer(stop_words='english')\n",
        "tfidf_matrix = vectorizer.fit_transform(data['genres'])\n",
        "\n",
        "# 코사인 유사도 계산\n",
        "cosine_sim = cosine_similarity(tfidf_matrix, tfidf_matrix)\n",
        "\n",
        "print(f\"TF-IDF Matrix Shape: {tfidf_matrix.shape}\")\n"
      ]
    },
    {
      "cell_type": "markdown",
      "metadata": {
        "id": "b35RXB5G-b3W"
      },
      "source": [
        "**교차 검증 및 하이퍼파라미터 설정**"
      ]
    },
    {
      "cell_type": "code",
      "execution_count": 43,
      "metadata": {
        "colab": {
          "base_uri": "https://localhost:8080/"
        },
        "id": "kI6JrV0uoW-u",
        "outputId": "f4052b1e-33b4-4887-aaad-69df5df217b9"
      },
      "outputs": [
        {
          "output_type": "stream",
          "name": "stdout",
          "text": [
            "Params: {'max_features': 500, 'ngram_range': (1, 1), 'stop_words': None}, RMSE: 0.8649\n",
            "Params: {'max_features': 500, 'ngram_range': (1, 1), 'stop_words': 'english'}, RMSE: 0.8649\n",
            "Params: {'max_features': 500, 'ngram_range': (1, 2), 'stop_words': None}, RMSE: 0.9219\n",
            "Params: {'max_features': 500, 'ngram_range': (1, 2), 'stop_words': 'english'}, RMSE: 0.9219\n",
            "Params: {'max_features': 1000, 'ngram_range': (1, 1), 'stop_words': None}, RMSE: 0.8649\n",
            "Params: {'max_features': 1000, 'ngram_range': (1, 1), 'stop_words': 'english'}, RMSE: 0.8649\n",
            "Params: {'max_features': 1000, 'ngram_range': (1, 2), 'stop_words': None}, RMSE: 0.9219\n",
            "Params: {'max_features': 1000, 'ngram_range': (1, 2), 'stop_words': 'english'}, RMSE: 0.9219\n",
            "Params: {'max_features': 1500, 'ngram_range': (1, 1), 'stop_words': None}, RMSE: 0.8649\n",
            "Params: {'max_features': 1500, 'ngram_range': (1, 1), 'stop_words': 'english'}, RMSE: 0.8649\n",
            "Params: {'max_features': 1500, 'ngram_range': (1, 2), 'stop_words': None}, RMSE: 0.9219\n",
            "Params: {'max_features': 1500, 'ngram_range': (1, 2), 'stop_words': 'english'}, RMSE: 0.9219\n",
            "\n",
            "최적 하이퍼파라미터: {'max_features': 500, 'ngram_range': (1, 1), 'stop_words': 'english'}\n",
            "최적 RMSE: 0.8648712421906701\n"
          ]
        }
      ],
      "source": [
        "# RMSE 평가 함수\n",
        "def calculate_rmse(similarity_matrix, true_values):\n",
        "    true_sim = np.diag(similarity_matrix)\n",
        "    return np.sqrt(np.mean((true_values - true_sim) ** 2))\n",
        "\n",
        "# 데이터를 교차 검증하며 평가\n",
        "def cross_validate_tfidf(data, params, n_splits=5):\n",
        "    # K-폴드 교차 검증 설정\n",
        "    kf = KFold(n_splits=n_splits, shuffle=True, random_state=42)\n",
        "    results = []\n",
        "\n",
        "    for train_index, test_index in kf.split(data):\n",
        "        train_data = data.iloc[train_index]\n",
        "        test_data = data.iloc[test_index]\n",
        "\n",
        "        # TF-IDF 벡터화\n",
        "        vectorizer = TfidfVectorizer(**params)\n",
        "        tfidf_train = vectorizer.fit_transform(train_data['genres'])\n",
        "        tfidf_test = vectorizer.transform(test_data['genres'])\n",
        "\n",
        "        # 코사인 유사도 계산\n",
        "        train_sim = cosine_similarity(tfidf_train, tfidf_train)\n",
        "        test_sim = cosine_similarity(tfidf_test, tfidf_train)\n",
        "\n",
        "        # RMSE 계산\n",
        "        rmse = calculate_rmse(test_sim, np.ones(test_sim.shape[0]))\n",
        "        results.append(rmse)\n",
        "\n",
        "    return np.mean(results)\n",
        "\n",
        "# 하이퍼파라미터 설정\n",
        "param_grid = {\n",
        "    'max_features': [500, 1000, 1500],\n",
        "    'ngram_range': [(1, 1), (1, 2)],\n",
        "    'stop_words': [None, 'english']\n",
        "}\n",
        "\n",
        "# 하이퍼파라미터 튜닝 결과 저장\n",
        "best_params = None\n",
        "best_rmse = float('inf')\n",
        "\n",
        "for max_features in param_grid['max_features']:\n",
        "    for ngram_range in param_grid['ngram_range']:\n",
        "        for stop_words in param_grid['stop_words']:\n",
        "            params = {\n",
        "                'max_features': max_features,\n",
        "                'ngram_range': ngram_range,\n",
        "                'stop_words': stop_words\n",
        "            }\n",
        "            rmse = cross_validate_tfidf(data, params)\n",
        "            print(f\"Params: {params}, RMSE: {rmse:.4f}\")\n",
        "            if rmse < best_rmse:\n",
        "                best_rmse = rmse\n",
        "                best_params = params\n",
        "\n",
        "print(\"\\n최적 하이퍼파라미터:\", best_params)\n",
        "print(\"최적 RMSE:\", best_rmse)"
      ]
    },
    {
      "cell_type": "code",
      "execution_count": 44,
      "metadata": {
        "collapsed": true,
        "id": "Xll7owS0f4lC"
      },
      "outputs": [],
      "source": [
        "# 데이터 초기화\n",
        "data['imdbAverageRating'] = pd.to_numeric(data['imdbAverageRating'], errors='coerce')\n",
        "\n",
        "#장르 목록 생성\n",
        "available_genres = sorted(set(\" \".join(data['genres']).split()))\n",
        "rows = 3\n",
        "genres_per_row = (len(available_genres) + rows - 1) // rows\n",
        "genre_rows = [available_genres[i:i + genres_per_row] for i in range(0, len(available_genres), genres_per_row)]"
      ]
    },
    {
      "cell_type": "code",
      "execution_count": 45,
      "metadata": {
        "id": "ghlDZSmI6Lzb"
      },
      "outputs": [],
      "source": [
        "# 장르 목록 출력\n",
        "def display_genres():\n",
        "    print()\n",
        "    print(\"장르 목록:\")\n",
        "    for row in genre_rows:\n",
        "        print(\"  \".join(f\"{genre:<15}\" for genre in row))\n",
        "    print()"
      ]
    },
    {
      "cell_type": "code",
      "execution_count": 46,
      "metadata": {
        "id": "bAhXmYOnmot8"
      },
      "outputs": [],
      "source": [
        "# 영화 검색\n",
        "def search_movies():\n",
        "    while True:\n",
        "        # 검색 옵션 선택\n",
        "        search_option = get_search_option()\n",
        "\n",
        "        # 검색 수행\n",
        "        if search_option == '1':\n",
        "            recommended_movies = search_by_genre()\n",
        "        elif search_option == '2':\n",
        "            recommended_movies = search_by_title()\n",
        "        else:\n",
        "            print(\"잘못된 입력입니다. 다시 시도하세요.\")\n",
        "            continue\n",
        "\n",
        "        # 검색 결과 출력\n",
        "        if not recommended_movies.empty:\n",
        "            display_search_results(recommended_movies)\n",
        "        else:\n",
        "            print(\"검색 결과가 없습니다.\")\n",
        "\n",
        "        # 다시 검색 여부 확인\n",
        "        if not retry_search():\n",
        "            print(\"검색을 종료합니다.\")\n",
        "            break\n",
        "\n",
        "# 사용자의 검색어를 입력받음\n",
        "def get_search_option():\n",
        "    print(\"검색 옵션:\")\n",
        "    print(\"1. 장르로 검색\")\n",
        "    print(\"2. 제목으로 검색\")\n",
        "    return input(\"선택 (1 또는 2): \").strip()\n",
        "\n",
        "# 장르 기반 검색\n",
        "def search_by_genre():\n",
        "    display_genres()\n",
        "    user_genre = input(\"장르 선택: \").strip().capitalize()\n",
        "    genre_idx = vectorizer.transform([user_genre])\n",
        "    cosine_similarities = tfidf_matrix.dot(genre_idx.T).toarray().flatten()\n",
        "    return data.loc[cosine_similarities > 0]\n",
        "\n",
        "# 제목 기반 검색\n",
        "def search_by_title():\n",
        "    user_title = input(\"영화 제목 입력: \").strip().lower()\n",
        "    return data[data['title'].str.lower().str.contains(user_title, na=False)]\n",
        "\n",
        "# 검색 결과 페이지 단위 출력\n",
        "def display_search_results(recommended_movies):\n",
        "    sorted_movies = recommended_movies.sort_values(by='imdbAverageRating', ascending=False)\n",
        "    page_size = 10\n",
        "    total_pages = (len(sorted_movies) + page_size - 1) // page_size\n",
        "    current_page = 0\n",
        "\n",
        "    while current_page < total_pages:\n",
        "        start_idx = current_page * page_size\n",
        "        end_idx = start_idx + page_size\n",
        "        movies_to_display = sorted_movies.iloc[start_idx:end_idx]\n",
        "\n",
        "        print(f\"\\n검색 결과 (평점 높은 순): Page {current_page + 1}/{total_pages}\")\n",
        "        for _, row in movies_to_display.iterrows():\n",
        "            print_movie_details(row)\n",
        "\n",
        "        if current_page + 1 >= total_pages:\n",
        "            print(\"마지막 페이지 입니다.\")\n",
        "            break\n",
        "\n",
        "        if not next_page_prompt():\n",
        "            break\n",
        "        current_page += 1\n",
        "\n",
        "# 영화 세부 정보 출력\n",
        "def print_movie_details(movie):\n",
        "    print()\n",
        "    print(f\"제목: {movie['title']}\")\n",
        "    print(f\"장르: {movie['genres']}\")\n",
        "    print(f\"연도: {movie['releaseYear']}\")\n",
        "    print(f\"평점: {movie['imdbAverageRating']}\")\n",
        "\n",
        "# 다음 페이지 조회 여부 확인\n",
        "def next_page_prompt():\n",
        "    user_input = input(\"\\n다음 페이지를 보시겠습니까? (y/n): \").strip().lower()\n",
        "    return user_input == 'y'\n",
        "\n",
        "# 재검색 여부 확인\n",
        "def retry_search():\n",
        "    retry = input(\"\\n다시 검색하시겠습니까? (y/n): \").strip().lower()\n",
        "    return retry == 'y'\n"
      ]
    },
    {
      "cell_type": "code",
      "execution_count": 47,
      "metadata": {
        "colab": {
          "base_uri": "https://localhost:8080/"
        },
        "id": "SALEGQuemrSt",
        "outputId": "9d4142e7-0018-4130-e079-aec3229e15b5"
      },
      "outputs": [
        {
          "output_type": "stream",
          "name": "stdout",
          "text": [
            "검색 옵션:\n",
            "1. 장르로 검색\n",
            "2. 제목으로 검색\n",
            "선택 (1 또는 2): 1\n",
            "\n",
            "장르 목록:\n",
            "Action           Adventure        Animation        Biography        Comedy           Crime            Documentary      Drama            Family         \n",
            "Fantasy          Game-Show        History          Horror           Music            Musical          Mystery          News             Reality-TV     \n",
            "Romance          Sci-Fi           Short            Sport            Talk-Show        Thriller         War              Western        \n",
            "\n",
            "장르 선택: Action\n",
            "\n",
            "검색 결과 (평점 높은 순): Page 1/133\n",
            "\n",
            "제목: Avatar: The Last Airbender\n",
            "장르: Action Adventure Animation\n",
            "연도: 2005\n",
            "평점: 9.3\n",
            "\n",
            "제목: Shasha and Milo\n",
            "장르: Action Animation Comedy\n",
            "연도: 2023\n",
            "평점: 9.2\n",
            "\n",
            "제목: Attack on Titan\n",
            "장르: Action Adventure Animation\n",
            "연도: 2013\n",
            "평점: 9.1\n",
            "\n",
            "제목: Arcane\n",
            "장르: Action Adventure Animation\n",
            "연도: 2021\n",
            "평점: 9.0\n",
            "\n",
            "제목: One Piece\n",
            "장르: Action Adventure Animation\n",
            "연도: 1999\n",
            "평점: 9.0\n",
            "\n",
            "제목: Hunter x Hunter\n",
            "장르: Action Adventure Animation\n",
            "연도: 2011\n",
            "평점: 9.0\n",
            "\n",
            "제목: The Dark Knight\n",
            "장르: Action Crime Drama\n",
            "연도: 2008\n",
            "평점: 9.0\n",
            "\n",
            "제목: Cowboy Bebop\n",
            "장르: Action Adventure Animation\n",
            "연도: 1998\n",
            "평점: 8.9\n",
            "\n",
            "제목: Vinland Saga\n",
            "장르: Action Adventure Animation\n",
            "연도: 2019\n",
            "평점: 8.8\n",
            "\n",
            "제목: Inception\n",
            "장르: Action Adventure Sci-Fi\n",
            "연도: 2010\n",
            "평점: 8.8\n",
            "\n",
            "다음 페이지를 보시겠습니까? (y/n): y\n",
            "\n",
            "검색 결과 (평점 높은 순): Page 2/133\n",
            "\n",
            "제목: The Haunted House: The Sky Ghost vs Jormungandr\n",
            "장르: Action Adventure Animation\n",
            "연도: 2019\n",
            "평점: 8.7\n",
            "\n",
            "제목: Gintama\n",
            "장르: Action Animation Comedy\n",
            "연도: 2005\n",
            "평점: 8.7\n",
            "\n",
            "제목: Mr. Sunshine\n",
            "장르: Action Drama Romance\n",
            "연도: 2018\n",
            "평점: 8.7\n",
            "\n",
            "제목: One Punch Man\n",
            "장르: Action Animation Comedy\n",
            "연도: 2015\n",
            "평점: 8.7\n",
            "\n",
            "제목: Blue Eye Samurai\n",
            "장르: Action Adventure Animation\n",
            "연도: 2023\n",
            "평점: 8.7\n",
            "\n",
            "제목: Alchemy of Souls\n",
            "장르: Action Drama Fantasy\n",
            "연도: 2022\n",
            "평점: 8.7\n",
            "\n",
            "제목: Star Trek: The Next Generation\n",
            "장르: Action Adventure Drama\n",
            "연도: 1987\n",
            "평점: 8.7\n",
            "\n",
            "제목: Dandadan\n",
            "장르: Action Adventure Animation\n",
            "연도: 2024\n",
            "평점: 8.7\n",
            "\n",
            "제목: Terminator 2: Judgment Day\n",
            "장르: Action Adventure Sci-Fi\n",
            "연도: 1991\n",
            "평점: 8.6\n",
            "\n",
            "제목: Moon Lovers: Scarlet Heart Ryeo\n",
            "장르: Action Drama Fantasy\n",
            "연도: 2016\n",
            "평점: 8.6\n",
            "\n",
            "다음 페이지를 보시겠습니까? (y/n): n\n",
            "\n",
            "다시 검색하시겠습니까? (y/n): y\n",
            "검색 옵션:\n",
            "1. 장르로 검색\n",
            "2. 제목으로 검색\n",
            "선택 (1 또는 2): 2\n",
            "영화 제목 입력: Hero\n",
            "\n",
            "검색 결과 (평점 높은 순): Page 1/3\n",
            "\n",
            "제목: My Hero Academia\n",
            "장르: Action Adventure Animation\n",
            "연도: 2016\n",
            "평점: 8.2\n",
            "\n",
            "제목: Hero\n",
            "장르: Action Adventure Drama\n",
            "연도: 2002\n",
            "평점: 7.9\n",
            "\n",
            "제목: The Rising of the Shield Hero\n",
            "장르: Action Adventure Animation\n",
            "연도: 2019\n",
            "평점: 7.8\n",
            "\n",
            "제목: Hero Inside\n",
            "장르: Action Animation Comedy\n",
            "연도: 2023\n",
            "평점: 7.7\n",
            "\n",
            "제목: The Boy and the Heron\n",
            "장르: Adventure Animation Drama\n",
            "연도: 2023\n",
            "평점: 7.4\n",
            "\n",
            "제목: How a Realist Hero Rebuilt the Kingdom\n",
            "장르: Action Animation Comedy\n",
            "연도: 2021\n",
            "평점: 7.3\n",
            "\n",
            "제목: Antihero\n",
            "장르: Drama Mystery\n",
            "연도: 2024\n",
            "평점: 7.2\n",
            "\n",
            "제목: My Heroic Husband\n",
            "장르: Animation Comedy Fantasy\n",
            "연도: 2023\n",
            "평점: 7.0\n",
            "\n",
            "제목: Heroin(e)\n",
            "장르: Documentary Short\n",
            "연도: 2017\n",
            "평점: 6.8\n",
            "\n",
            "제목: Zero to Hero\n",
            "장르: Biography Drama Sport\n",
            "연도: 2021\n",
            "평점: 6.7\n",
            "\n",
            "다음 페이지를 보시겠습니까? (y/n): y\n",
            "\n",
            "검색 결과 (평점 높은 순): Page 2/3\n",
            "\n",
            "제목: My Heroes Were Cowboys\n",
            "장르: Documentary Short\n",
            "연도: 2021\n",
            "평점: 6.7\n",
            "\n",
            "제목: Modest Heroes\n",
            "장르: Adventure Animation Family\n",
            "연도: 2018\n",
            "평점: 6.6\n",
            "\n",
            "제목: The Modest Heroes of Studio Ponoc\n",
            "장르: Documentary Short\n",
            "연도: 2019\n",
            "평점: 6.5\n",
            "\n",
            "제목: Wild Heroes\n",
            "장르: Action\n",
            "연도: 2015\n",
            "평점: 6.3\n",
            "\n",
            "제목: Miniforce - New Heroes Rise\n",
            "장르: Action Adventure Animation\n",
            "연도: 2016\n",
            "평점: 6.2\n",
            "\n",
            "제목: The Treacherous\n",
            "장르: Crime Drama History\n",
            "연도: 2015\n",
            "평점: 6.1\n",
            "\n",
            "제목: Hero Mask\n",
            "장르: Action Animation Crime\n",
            "연도: 2018\n",
            "평점: 6.1\n",
            "\n",
            "제목: How I Became a Super Hero\n",
            "장르: Action Adventure Comedy\n",
            "연도: 2020\n",
            "평점: 5.8\n",
            "\n",
            "제목: Halloween Hero\n",
            "장르: Action Adventure Animation\n",
            "연도: 2020\n",
            "평점: 5.7\n",
            "\n",
            "제목: Crayon Shin-chan: Fierceness That Invites Storm! The Hero of Kinpoko\n",
            "장르: Adventure Animation Comedy\n",
            "연도: 2008\n",
            "평점: 5.4\n",
            "\n",
            "다음 페이지를 보시겠습니까? (y/n): n\n",
            "\n",
            "다시 검색하시겠습니까? (y/n): n\n",
            "검색을 종료합니다.\n"
          ]
        }
      ],
      "source": [
        "# 검색 시작\n",
        "search_movies()"
      ]
    },
    {
      "cell_type": "markdown",
      "source": [
        "비교"
      ],
      "metadata": {
        "id": "QCD4HTuMFlt-"
      }
    },
    {
      "cell_type": "markdown",
      "source": [
        "![비교.PNG](data:image/png;base64,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)"
      ],
      "metadata": {
        "id": "ceYjpHW5FGud"
      }
    },
    {
      "cell_type": "markdown",
      "source": [
        "개인화된 추천이 중요하다면 콘텐츠 기반 필터링이 적합합니다.\n",
        "속도와 확장성이 중요한 대규모 데이터셋에서는 K-평균이 유리할 수 있습니다."
      ],
      "metadata": {
        "id": "D7OKKUtVFpG-"
      }
    },
    {
      "cell_type": "markdown",
      "source": [
        "개인화 된 추천이 필요하기 때문에 Content based Filtering 이 적합합니다."
      ],
      "metadata": {
        "id": "PNz2LDOOFrIl"
      }
    }
  ],
  "metadata": {
    "colab": {
      "provenance": []
    },
    "kernelspec": {
      "display_name": "Python 3",
      "name": "python3"
    },
    "language_info": {
      "name": "python",
      "version": "3.11.9"
    }
  },
  "nbformat": 4,
  "nbformat_minor": 0
}